{
 "cells": [
  {
   "cell_type": "code",
   "execution_count": 1,
   "id": "3813972f-bca9-4ba4-ac4c-96a2a8368078",
   "metadata": {},
   "outputs": [],
   "source": [
    "odd = [1, 3, 5, 7, 9]"
   ]
  },
  {
   "cell_type": "code",
   "execution_count": 2,
   "id": "847c7bad-4f4d-42cc-81e8-532127b7d360",
   "metadata": {},
   "outputs": [
    {
     "data": {
      "text/plain": [
       "[1, 3, 5, 7, 9]"
      ]
     },
     "execution_count": 2,
     "metadata": {},
     "output_type": "execute_result"
    }
   ],
   "source": [
    "odd"
   ]
  },
  {
   "cell_type": "code",
   "execution_count": 3,
   "id": "338a3919-4cd4-4544-8f54-b36cac375cef",
   "metadata": {},
   "outputs": [
    {
     "name": "stdout",
     "output_type": "stream",
     "text": [
      "1\n",
      "3\n",
      "5\n",
      "7\n",
      "9\n"
     ]
    }
   ],
   "source": [
    "for i in odd:\n",
    "    print(i)"
   ]
  },
  {
   "cell_type": "code",
   "execution_count": 4,
   "id": "9c6d98bb-70b6-4b4b-9840-11a6c0502190",
   "metadata": {},
   "outputs": [
    {
     "ename": "TypeError",
     "evalue": "'int' object is not iterable",
     "output_type": "error",
     "traceback": [
      "\u001b[0;31m---------------------------------------------------------------------------\u001b[0m",
      "\u001b[0;31mTypeError\u001b[0m                                 Traceback (most recent call last)",
      "Input \u001b[0;32mIn [4]\u001b[0m, in \u001b[0;36m<cell line: 1>\u001b[0;34m()\u001b[0m\n\u001b[0;32m----> 1\u001b[0m \u001b[38;5;28;01mfor\u001b[39;00m odd \u001b[38;5;129;01min\u001b[39;00m \u001b[38;5;241m1\u001b[39m:\n\u001b[1;32m      2\u001b[0m     \u001b[38;5;28mprint\u001b[39m(odd)\n",
      "\u001b[0;31mTypeError\u001b[0m: 'int' object is not iterable"
     ]
    }
   ],
   "source": [
    "for odd in 1:\n",
    "    print(odd)\n"
   ]
  },
  {
   "cell_type": "code",
   "execution_count": 5,
   "id": "3068fc06-9e1d-4787-a3ea-56cd479a6df8",
   "metadata": {},
   "outputs": [],
   "source": [
    "a = [1, 2, 3, ['a', 'b', 'c']]"
   ]
  },
  {
   "cell_type": "code",
   "execution_count": 6,
   "id": "62dc2d8b-62f4-4347-a344-d0bfa54787cb",
   "metadata": {},
   "outputs": [
    {
     "data": {
      "text/plain": [
       "'b'"
      ]
     },
     "execution_count": 6,
     "metadata": {},
     "output_type": "execute_result"
    }
   ],
   "source": [
    "a[3][1]"
   ]
  },
  {
   "cell_type": "code",
   "execution_count": 7,
   "id": "78bcf09f-407d-4cb4-97d5-47fa6c80e469",
   "metadata": {},
   "outputs": [
    {
     "data": {
      "text/plain": [
       "[2, 3]"
      ]
     },
     "execution_count": 7,
     "metadata": {},
     "output_type": "execute_result"
    }
   ],
   "source": [
    "a[1:3]"
   ]
  },
  {
   "cell_type": "code",
   "execution_count": 8,
   "id": "6544e398-c54e-4447-9e55-d9cf0652d187",
   "metadata": {},
   "outputs": [
    {
     "data": {
      "text/plain": [
       "4"
      ]
     },
     "execution_count": 8,
     "metadata": {},
     "output_type": "execute_result"
    }
   ],
   "source": [
    "len(a)"
   ]
  },
  {
   "cell_type": "code",
   "execution_count": 9,
   "id": "f8070ead-6f39-41dd-acdc-65507ca5bf68",
   "metadata": {},
   "outputs": [],
   "source": [
    "a[3] = 'abc'"
   ]
  },
  {
   "cell_type": "code",
   "execution_count": 10,
   "id": "99ca32f0-1f83-46cc-ba78-9b01c2be3946",
   "metadata": {},
   "outputs": [
    {
     "data": {
      "text/plain": [
       "[1, 2, 3, 'abc']"
      ]
     },
     "execution_count": 10,
     "metadata": {},
     "output_type": "execute_result"
    }
   ],
   "source": [
    "a"
   ]
  },
  {
   "cell_type": "code",
   "execution_count": 11,
   "id": "4ba25d95-a7ff-48ce-b59d-7ccb753fbb3a",
   "metadata": {},
   "outputs": [],
   "source": [
    "del a[1]"
   ]
  },
  {
   "cell_type": "code",
   "execution_count": 12,
   "id": "e334a2ba-11b0-46f0-8521-224f54362ce7",
   "metadata": {},
   "outputs": [
    {
     "data": {
      "text/plain": [
       "[1, 3, 'abc']"
      ]
     },
     "execution_count": 12,
     "metadata": {},
     "output_type": "execute_result"
    }
   ],
   "source": [
    "a"
   ]
  },
  {
   "cell_type": "code",
   "execution_count": 13,
   "id": "0c0c6a43-f4d8-4feb-ba06-38eba9f42300",
   "metadata": {},
   "outputs": [
    {
     "data": {
      "text/plain": [
       "[1, 2, 3, 4]"
      ]
     },
     "execution_count": 13,
     "metadata": {},
     "output_type": "execute_result"
    }
   ],
   "source": [
    "a = [1, 2, 3]\n",
    "a.append(4)\n",
    "a"
   ]
  },
  {
   "cell_type": "code",
   "execution_count": 14,
   "id": "b13409b4-6772-4682-b6fa-65d5c9070d4a",
   "metadata": {},
   "outputs": [],
   "source": [
    "a = [1, 4, 3, 2]"
   ]
  },
  {
   "cell_type": "code",
   "execution_count": 15,
   "id": "9ff7955c-f882-44be-8c86-309b9b8a32dd",
   "metadata": {},
   "outputs": [
    {
     "data": {
      "text/plain": [
       "[1, 4, 3, 2]"
      ]
     },
     "execution_count": 15,
     "metadata": {},
     "output_type": "execute_result"
    }
   ],
   "source": [
    "a"
   ]
  },
  {
   "cell_type": "code",
   "execution_count": 16,
   "id": "c34e3ea4-936c-4bec-85bd-e697909d9979",
   "metadata": {},
   "outputs": [],
   "source": [
    "a.sort()"
   ]
  },
  {
   "cell_type": "code",
   "execution_count": 17,
   "id": "86e01b55-acfb-4f3c-bd42-ea223a8190c9",
   "metadata": {},
   "outputs": [
    {
     "data": {
      "text/plain": [
       "[1, 2, 3, 4]"
      ]
     },
     "execution_count": 17,
     "metadata": {},
     "output_type": "execute_result"
    }
   ],
   "source": [
    "a"
   ]
  },
  {
   "cell_type": "code",
   "execution_count": 20,
   "id": "c4469175-2371-4384-86a9-cc67031d2be0",
   "metadata": {},
   "outputs": [],
   "source": [
    "a.sort(reverse=True)"
   ]
  },
  {
   "cell_type": "code",
   "execution_count": 21,
   "id": "4edce9c5-3851-425b-9a16-7bacbfe034c1",
   "metadata": {},
   "outputs": [
    {
     "data": {
      "text/plain": [
       "[4, 3, 2, 1]"
      ]
     },
     "execution_count": 21,
     "metadata": {},
     "output_type": "execute_result"
    }
   ],
   "source": [
    "a"
   ]
  },
  {
   "cell_type": "raw",
   "id": "b194ede5-5b41-4af3-9f04-79e951ac796e",
   "metadata": {},
   "source": [
    "타자게임\n",
    "데이터 저장 : word = []\n",
    "word 리스트에서 문제를 추출하여 제출하면 맞추는 게임\n",
    "-한번 출제된 문제는 맞출 때까지 반복\n",
    "- 전체 5문제를 출제 다 맞추면 종료"
   ]
  },
  {
   "cell_type": "code",
   "execution_count": 22,
   "id": "20361ec2-cbf7-40ef-bc61-bbdb69b230ad",
   "metadata": {},
   "outputs": [],
   "source": [
    "import random"
   ]
  },
  {
   "cell_type": "code",
   "execution_count": 23,
   "id": "88442f6c-429e-4602-ae2b-65323fdbb7dc",
   "metadata": {},
   "outputs": [
    {
     "data": {
      "text/plain": [
       "'cat'"
      ]
     },
     "execution_count": 23,
     "metadata": {},
     "output_type": "execute_result"
    }
   ],
   "source": [
    "word = ['cat', 'dog', '강아지', '고양이']\n",
    "random.choice(word)"
   ]
  },
  {
   "cell_type": "code",
   "execution_count": 31,
   "id": "27fd47e3-08b3-4180-9492-48409d31d138",
   "metadata": {},
   "outputs": [
    {
     "name": "stdin",
     "output_type": "stream",
     "text": [
      "cat, dog, 강아지, 고양이 중 하나를 입력하시오 >>> cat\n"
     ]
    },
    {
     "name": "stdout",
     "output_type": "stream",
     "text": [
      "틀렸습니다!\n"
     ]
    },
    {
     "name": "stdin",
     "output_type": "stream",
     "text": [
      "cat, dog, 강아지, 고양이 중 하나를 입력하시오 >>> cat\n"
     ]
    },
    {
     "name": "stdout",
     "output_type": "stream",
     "text": [
      "틀렸습니다!\n"
     ]
    },
    {
     "name": "stdin",
     "output_type": "stream",
     "text": [
      "cat, dog, 강아지, 고양이 중 하나를 입력하시오 >>> cat\n"
     ]
    },
    {
     "name": "stdout",
     "output_type": "stream",
     "text": [
      "틀렸습니다!\n"
     ]
    },
    {
     "name": "stdin",
     "output_type": "stream",
     "text": [
      "cat, dog, 강아지, 고양이 중 하나를 입력하시오 >>> cat\n"
     ]
    },
    {
     "name": "stdout",
     "output_type": "stream",
     "text": [
      "틀렸습니다!\n"
     ]
    },
    {
     "name": "stdin",
     "output_type": "stream",
     "text": [
      "cat, dog, 강아지, 고양이 중 하나를 입력하시오 >>> dog\n"
     ]
    },
    {
     "name": "stdout",
     "output_type": "stream",
     "text": [
      "틀렸습니다!\n"
     ]
    },
    {
     "name": "stdin",
     "output_type": "stream",
     "text": [
      "cat, dog, 강아지, 고양이 중 하나를 입력하시오 >>> 강아지\n"
     ]
    },
    {
     "name": "stdout",
     "output_type": "stream",
     "text": [
      "틀렸습니다!\n"
     ]
    },
    {
     "name": "stdin",
     "output_type": "stream",
     "text": [
      "cat, dog, 강아지, 고양이 중 하나를 입력하시오 >>> 고양이\n"
     ]
    },
    {
     "name": "stdout",
     "output_type": "stream",
     "text": [
      "틀렸습니다!\n"
     ]
    },
    {
     "name": "stdin",
     "output_type": "stream",
     "text": [
      "cat, dog, 강아지, 고양이 중 하나를 입력하시오 >>> cat\n"
     ]
    },
    {
     "name": "stdout",
     "output_type": "stream",
     "text": [
      "틀렸습니다!\n"
     ]
    },
    {
     "name": "stdin",
     "output_type": "stream",
     "text": [
      "cat, dog, 강아지, 고양이 중 하나를 입력하시오 >>> cat\n"
     ]
    },
    {
     "name": "stdout",
     "output_type": "stream",
     "text": [
      "틀렸습니다!\n"
     ]
    },
    {
     "name": "stdin",
     "output_type": "stream",
     "text": [
      "cat, dog, 강아지, 고양이 중 하나를 입력하시오 >>> cat\n"
     ]
    },
    {
     "name": "stdout",
     "output_type": "stream",
     "text": [
      "틀렸습니다!\n"
     ]
    },
    {
     "name": "stdin",
     "output_type": "stream",
     "text": [
      "cat, dog, 강아지, 고양이 중 하나를 입력하시오 >>> cat\n"
     ]
    },
    {
     "name": "stdout",
     "output_type": "stream",
     "text": [
      "정답입니다!\n"
     ]
    },
    {
     "name": "stdin",
     "output_type": "stream",
     "text": [
      "cat, dog, 강아지, 고양이 중 하나를 입력하시오 >>> cat\n"
     ]
    },
    {
     "name": "stdout",
     "output_type": "stream",
     "text": [
      "정답입니다!\n"
     ]
    },
    {
     "name": "stdin",
     "output_type": "stream",
     "text": [
      "cat, dog, 강아지, 고양이 중 하나를 입력하시오 >>> cat\n"
     ]
    },
    {
     "name": "stdout",
     "output_type": "stream",
     "text": [
      "틀렸습니다!\n"
     ]
    },
    {
     "name": "stdin",
     "output_type": "stream",
     "text": [
      "cat, dog, 강아지, 고양이 중 하나를 입력하시오 >>> cat\n"
     ]
    },
    {
     "name": "stdout",
     "output_type": "stream",
     "text": [
      "틀렸습니다!\n"
     ]
    },
    {
     "name": "stdin",
     "output_type": "stream",
     "text": [
      "cat, dog, 강아지, 고양이 중 하나를 입력하시오 >>> ㅁ\n"
     ]
    },
    {
     "name": "stdout",
     "output_type": "stream",
     "text": [
      "틀렸습니다!\n"
     ]
    },
    {
     "name": "stdin",
     "output_type": "stream",
     "text": [
      "cat, dog, 강아지, 고양이 중 하나를 입력하시오 >>> \n"
     ]
    },
    {
     "name": "stdout",
     "output_type": "stream",
     "text": [
      "틀렸습니다!\n"
     ]
    },
    {
     "name": "stdin",
     "output_type": "stream",
     "text": [
      "cat, dog, 강아지, 고양이 중 하나를 입력하시오 >>> \n"
     ]
    },
    {
     "name": "stdout",
     "output_type": "stream",
     "text": [
      "틀렸습니다!\n"
     ]
    },
    {
     "name": "stdin",
     "output_type": "stream",
     "text": [
      "cat, dog, 강아지, 고양이 중 하나를 입력하시오 >>> ㅇ\n"
     ]
    },
    {
     "name": "stdout",
     "output_type": "stream",
     "text": [
      "틀렸습니다!\n"
     ]
    },
    {
     "ename": "KeyboardInterrupt",
     "evalue": "Interrupted by user",
     "output_type": "error",
     "traceback": [
      "\u001b[0;31m---------------------------------------------------------------------------\u001b[0m",
      "\u001b[0;31mKeyboardInterrupt\u001b[0m                         Traceback (most recent call last)",
      "Input \u001b[0;32mIn [31]\u001b[0m, in \u001b[0;36m<cell line: 2>\u001b[0;34m()\u001b[0m\n\u001b[1;32m      1\u001b[0m \u001b[38;5;28;01mwhile\u001b[39;00m(\u001b[38;5;28;01mTrue\u001b[39;00m):\n\u001b[0;32m----> 2\u001b[0m     answer \u001b[38;5;241m=\u001b[39m \u001b[38;5;28;43minput\u001b[39;49m\u001b[43m(\u001b[49m\u001b[38;5;124;43m'\u001b[39;49m\u001b[38;5;124;43mcat, dog, 강아지, 고양이 중 하나를 입력하시오 >>>\u001b[39;49m\u001b[38;5;124;43m'\u001b[39;49m\u001b[43m)\u001b[49m\n\u001b[1;32m      3\u001b[0m     result \u001b[38;5;241m=\u001b[39m \u001b[38;5;124m'\u001b[39m\u001b[38;5;124m정답입니다!\u001b[39m\u001b[38;5;124m'\u001b[39m \u001b[38;5;28;01mif\u001b[39;00m answer \u001b[38;5;241m==\u001b[39m random\u001b[38;5;241m.\u001b[39mchoice(word) \u001b[38;5;28;01melse\u001b[39;00m \u001b[38;5;124m'\u001b[39m\u001b[38;5;124m틀렸습니다!\u001b[39m\u001b[38;5;124m'\u001b[39m\n\u001b[1;32m      4\u001b[0m     \u001b[38;5;28mprint\u001b[39m(result)\n",
      "File \u001b[0;32m~/opt/anaconda3/lib/python3.9/site-packages/ipykernel/kernelbase.py:1075\u001b[0m, in \u001b[0;36mKernel.raw_input\u001b[0;34m(self, prompt)\u001b[0m\n\u001b[1;32m   1071\u001b[0m \u001b[38;5;28;01mif\u001b[39;00m \u001b[38;5;129;01mnot\u001b[39;00m \u001b[38;5;28mself\u001b[39m\u001b[38;5;241m.\u001b[39m_allow_stdin:\n\u001b[1;32m   1072\u001b[0m     \u001b[38;5;28;01mraise\u001b[39;00m StdinNotImplementedError(\n\u001b[1;32m   1073\u001b[0m         \u001b[38;5;124m\"\u001b[39m\u001b[38;5;124mraw_input was called, but this frontend does not support input requests.\u001b[39m\u001b[38;5;124m\"\u001b[39m\n\u001b[1;32m   1074\u001b[0m     )\n\u001b[0;32m-> 1075\u001b[0m \u001b[38;5;28;01mreturn\u001b[39;00m \u001b[38;5;28;43mself\u001b[39;49m\u001b[38;5;241;43m.\u001b[39;49m\u001b[43m_input_request\u001b[49m\u001b[43m(\u001b[49m\n\u001b[1;32m   1076\u001b[0m \u001b[43m    \u001b[49m\u001b[38;5;28;43mstr\u001b[39;49m\u001b[43m(\u001b[49m\u001b[43mprompt\u001b[49m\u001b[43m)\u001b[49m\u001b[43m,\u001b[49m\n\u001b[1;32m   1077\u001b[0m \u001b[43m    \u001b[49m\u001b[38;5;28;43mself\u001b[39;49m\u001b[38;5;241;43m.\u001b[39;49m\u001b[43m_parent_ident\u001b[49m\u001b[43m[\u001b[49m\u001b[38;5;124;43m\"\u001b[39;49m\u001b[38;5;124;43mshell\u001b[39;49m\u001b[38;5;124;43m\"\u001b[39;49m\u001b[43m]\u001b[49m\u001b[43m,\u001b[49m\n\u001b[1;32m   1078\u001b[0m \u001b[43m    \u001b[49m\u001b[38;5;28;43mself\u001b[39;49m\u001b[38;5;241;43m.\u001b[39;49m\u001b[43mget_parent\u001b[49m\u001b[43m(\u001b[49m\u001b[38;5;124;43m\"\u001b[39;49m\u001b[38;5;124;43mshell\u001b[39;49m\u001b[38;5;124;43m\"\u001b[39;49m\u001b[43m)\u001b[49m\u001b[43m,\u001b[49m\n\u001b[1;32m   1079\u001b[0m \u001b[43m    \u001b[49m\u001b[43mpassword\u001b[49m\u001b[38;5;241;43m=\u001b[39;49m\u001b[38;5;28;43;01mFalse\u001b[39;49;00m\u001b[43m,\u001b[49m\n\u001b[1;32m   1080\u001b[0m \u001b[43m\u001b[49m\u001b[43m)\u001b[49m\n",
      "File \u001b[0;32m~/opt/anaconda3/lib/python3.9/site-packages/ipykernel/kernelbase.py:1120\u001b[0m, in \u001b[0;36mKernel._input_request\u001b[0;34m(self, prompt, ident, parent, password)\u001b[0m\n\u001b[1;32m   1117\u001b[0m             \u001b[38;5;28;01mbreak\u001b[39;00m\n\u001b[1;32m   1118\u001b[0m \u001b[38;5;28;01mexcept\u001b[39;00m \u001b[38;5;167;01mKeyboardInterrupt\u001b[39;00m:\n\u001b[1;32m   1119\u001b[0m     \u001b[38;5;66;03m# re-raise KeyboardInterrupt, to truncate traceback\u001b[39;00m\n\u001b[0;32m-> 1120\u001b[0m     \u001b[38;5;28;01mraise\u001b[39;00m \u001b[38;5;167;01mKeyboardInterrupt\u001b[39;00m(\u001b[38;5;124m\"\u001b[39m\u001b[38;5;124mInterrupted by user\u001b[39m\u001b[38;5;124m\"\u001b[39m) \u001b[38;5;28;01mfrom\u001b[39;00m \u001b[38;5;28mNone\u001b[39m\n\u001b[1;32m   1121\u001b[0m \u001b[38;5;28;01mexcept\u001b[39;00m \u001b[38;5;167;01mException\u001b[39;00m:\n\u001b[1;32m   1122\u001b[0m     \u001b[38;5;28mself\u001b[39m\u001b[38;5;241m.\u001b[39mlog\u001b[38;5;241m.\u001b[39mwarning(\u001b[38;5;124m\"\u001b[39m\u001b[38;5;124mInvalid Message:\u001b[39m\u001b[38;5;124m\"\u001b[39m, exc_info\u001b[38;5;241m=\u001b[39m\u001b[38;5;28;01mTrue\u001b[39;00m)\n",
      "\u001b[0;31mKeyboardInterrupt\u001b[0m: Interrupted by user"
     ]
    },
    {
     "name": "stdin",
     "output_type": "stream",
     "text": [
      "cat, dog, 강아지, 고양이 중 하나를 입력하시오 >>> ㅇ\n"
     ]
    }
   ],
   "source": [
    "while(True):\n",
    "    answer = input('cat, dog, 강아지, 고양이 중 하나를 입력하시오 >>>')\n",
    "    result = '정답입니다!' if answer == random.choice(word) else '틀렸습니다!'\n",
    "    print(result)\n",
    "    break"
   ]
  },
  {
   "cell_type": "code",
   "execution_count": 32,
   "id": "462b4880-f594-4839-9334-3f8d243e496f",
   "metadata": {},
   "outputs": [
    {
     "name": "stdout",
     "output_type": "stream",
     "text": [
      "1번\n",
      "dog\n"
     ]
    },
    {
     "name": "stdin",
     "output_type": "stream",
     "text": [
      ">>> dog\n"
     ]
    },
    {
     "name": "stdout",
     "output_type": "stream",
     "text": [
      "통과\n",
      "2번\n",
      "dog\n"
     ]
    },
    {
     "name": "stdin",
     "output_type": "stream",
     "text": [
      ">>> 앻\n"
     ]
    },
    {
     "name": "stdout",
     "output_type": "stream",
     "text": [
      "틀렸습니다!\n",
      "2번\n",
      "dog\n"
     ]
    },
    {
     "name": "stdin",
     "output_type": "stream",
     "text": [
      ">>> dog\n"
     ]
    },
    {
     "name": "stdout",
     "output_type": "stream",
     "text": [
      "통과\n",
      "3번\n",
      "dog\n"
     ]
    },
    {
     "name": "stdin",
     "output_type": "stream",
     "text": [
      ">>> dog\n"
     ]
    },
    {
     "name": "stdout",
     "output_type": "stream",
     "text": [
      "통과\n",
      "4번\n",
      "cat\n"
     ]
    },
    {
     "name": "stdin",
     "output_type": "stream",
     "text": [
      ">>> cat\n"
     ]
    },
    {
     "name": "stdout",
     "output_type": "stream",
     "text": [
      "통과\n",
      "5번\n",
      "고양이\n"
     ]
    },
    {
     "name": "stdin",
     "output_type": "stream",
     "text": [
      ">>> 고양이\n"
     ]
    },
    {
     "name": "stdout",
     "output_type": "stream",
     "text": [
      "통과\n",
      "5문제 완료!\n"
     ]
    }
   ],
   "source": [
    "n = 1\n",
    "quiz = random.choice(word)\n",
    "while n <= 5:\n",
    "    print(f'{n}번')\n",
    "    print(quiz)\n",
    "    result = input('>>>')\n",
    "    if quiz == result:\n",
    "        print('통과')\n",
    "        n += 1\n",
    "        quiz = random.choice(word)\n",
    "    else:\n",
    "        print('틀렸습니다!')\n",
    "print('5문제 완료!')"
   ]
  },
  {
   "cell_type": "code",
   "execution_count": 35,
   "id": "93721e4f-1392-436b-8848-f81c6d416c4d",
   "metadata": {},
   "outputs": [],
   "source": [
    "# 저장\n",
    "import json, pickle"
   ]
  },
  {
   "cell_type": "code",
   "execution_count": 47,
   "id": "7c27cd8c-b018-44b4-800b-d70eb23a7d1a",
   "metadata": {},
   "outputs": [],
   "source": [
    "f = open('word.json', 'w')\n",
    "json.dump(word, f)\n",
    "f.close()"
   ]
  },
  {
   "cell_type": "code",
   "execution_count": 48,
   "id": "1fa59853-9bf6-44b0-a066-5c1781f69aa7",
   "metadata": {},
   "outputs": [],
   "source": [
    "f = open('word.json', 'r')\n",
    "word_1 = json.load(f)\n",
    "f.close()"
   ]
  },
  {
   "cell_type": "code",
   "execution_count": 59,
   "id": "e0033d60-b346-4263-ae98-3230f485cea9",
   "metadata": {},
   "outputs": [
    {
     "data": {
      "text/plain": [
       "['cat', 'dog', '강아지', '고양이']"
      ]
     },
     "execution_count": 59,
     "metadata": {},
     "output_type": "execute_result"
    }
   ],
   "source": [
    "word_1"
   ]
  },
  {
   "cell_type": "code",
   "execution_count": 57,
   "id": "ea604050-ffcb-41f3-a50c-b6d3b55d1ddc",
   "metadata": {},
   "outputs": [],
   "source": [
    "f = open('word.pickle', 'wb')\n",
    "pickle.dump(word, f)\n",
    "f.close()"
   ]
  },
  {
   "cell_type": "code",
   "execution_count": 63,
   "id": "4d320c93-c3ba-4d1f-86b0-96beeb765683",
   "metadata": {},
   "outputs": [],
   "source": [
    "f = open('word.pickle', 'rb')\n",
    "word_2 = pickle.load(f)\n",
    "f.close()"
   ]
  },
  {
   "cell_type": "raw",
   "id": "2df3301b-93b3-4d71-bc8d-d884e1f5b6ba",
   "metadata": {},
   "source": [
    "word_2"
   ]
  },
  {
   "cell_type": "code",
   "execution_count": 65,
   "id": "437b516f-17f7-4f2b-9fba-f24aef72c467",
   "metadata": {},
   "outputs": [
    {
     "data": {
      "text/plain": [
       "1656385061.241728"
      ]
     },
     "execution_count": 65,
     "metadata": {},
     "output_type": "execute_result"
    }
   ],
   "source": [
    "import time\n",
    "time.time()"
   ]
  },
  {
   "cell_type": "code",
   "execution_count": 72,
   "id": "19ef2512-14ee-4b3b-94fa-127d6ab8d9eb",
   "metadata": {},
   "outputs": [
    {
     "data": {
      "text/plain": [
       "[('aaa', 11.2151312), ('bbb', 17.1231532)]"
      ]
     },
     "execution_count": 72,
     "metadata": {},
     "output_type": "execute_result"
    }
   ],
   "source": [
    "rank = {'aaa': 11.2151312, 'bbb': 17.1231532}\n",
    "sorted(rank.items(), key=lambda x : x[1])"
   ]
  },
  {
   "cell_type": "code",
   "execution_count": 69,
   "id": "fd047f8a-4f98-446f-a34e-8ae62dfaf4e1",
   "metadata": {},
   "outputs": [
    {
     "data": {
      "text/plain": [
       "dict_items([('aaa', 11.2151312), ('bbb', 17.1231532)])"
      ]
     },
     "execution_count": 69,
     "metadata": {},
     "output_type": "execute_result"
    }
   ],
   "source": [
    "rank.items()"
   ]
  },
  {
   "cell_type": "code",
   "execution_count": 70,
   "id": "97a04460-fb1c-48b1-bead-04d4f5513d16",
   "metadata": {},
   "outputs": [
    {
     "data": {
      "text/plain": [
       "[('aaa', 11.2151312), ('bbb', 17.1231532)]"
      ]
     },
     "execution_count": 70,
     "metadata": {},
     "output_type": "execute_result"
    }
   ],
   "source": [
    "sorted(rank.items(), key=lambda x : x[1])"
   ]
  },
  {
   "cell_type": "code",
   "execution_count": 83,
   "id": "1a968a29-91df-4d8a-8845-c719d866a115",
   "metadata": {},
   "outputs": [
    {
     "name": "stdin",
     "output_type": "stream",
     "text": [
      "\n",
      "---------------------------------------------------------\n",
      "1.게임 시작     2.문제 추가    3.문제 저장    4.등수 리스트   5.종료\n",
      "---------------------------------------------------------\n",
      ">>> 4\n"
     ]
    },
    {
     "name": "stdout",
     "output_type": "stream",
     "text": [
      "등수 리스트\n",
      "1등 정성균 시간: 11\n",
      "2등 aaa 시간: 11\n",
      "3등 bbb 시간: 17\n"
     ]
    },
    {
     "name": "stdin",
     "output_type": "stream",
     "text": [
      "\n",
      "---------------------------------------------------------\n",
      "1.게임 시작     2.문제 추가    3.문제 저장    4.등수 리스트   5.종료\n",
      "---------------------------------------------------------\n",
      ">>> 5\n"
     ]
    },
    {
     "name": "stdout",
     "output_type": "stream",
     "text": [
      "종료!\n"
     ]
    }
   ],
   "source": [
    "import json\n",
    "f = open('word.json', 'r')\n",
    "word = json.load(f)\n",
    "f.close()\n",
    "\n",
    "menu_display = '''\n",
    "---------------------------------------------------------\n",
    "1.게임 시작     2.문제 추가    3.문제 저장    4.등수 리스트   5.종료\n",
    "---------------------------------------------------------\n",
    ">>>'''\n",
    "\n",
    "while True:\n",
    "    menu = input(menu_display)\n",
    "    if menu == '1':\n",
    "        print('게임 시작!')\n",
    "        start = time.time()\n",
    "        n = 1\n",
    "        quiz = random.choice(word)\n",
    "        while n <= 5:\n",
    "            print(f'{n}번')\n",
    "            print(quiz)\n",
    "            result = input('>>>')\n",
    "            if quiz == result:\n",
    "                print('통과')\n",
    "                n += 1\n",
    "                quiz = random.choice(word)\n",
    "            else:\n",
    "                print('틀렸습니다!')\n",
    "        print('5문제 완료!')\n",
    "        end = time.time()\n",
    "        print(f'걸린 시간은 {end-start:.0f}초')\n",
    "        name = input('이름을 입력하세요 >>>')\n",
    "        rank[name] = end-start\n",
    "        print(rank)\n",
    "    elif menu == '2':\n",
    "        print('문제 추가 작업!')\n",
    "        while True:\n",
    "            data = input('(종료:Enter)>>>')\n",
    "            if data == '':\n",
    "                break\n",
    "            word.append(data)\n",
    "            print(word)\n",
    "    elif menu == '3':\n",
    "        print('문제 저장 작업!')\n",
    "    elif menu == '4':\n",
    "        print('등수 리스트')\n",
    "        for index, (k, v) in enumerate(sorted(rank.items(), key=lambda x : x[1])):\n",
    "            print(f'{index+1}등 {k} 시간: {v:.0f}')\n",
    "    elif menu == '5':\n",
    "        print('종료!')\n",
    "        f = open('word.json', 'w')\n",
    "        json.dump(word, f)\n",
    "        f.close()\n",
    "        break\n",
    "    else:\n",
    "        print('메뉴를 잘못 선택하셨습니다.')"
   ]
  },
  {
   "cell_type": "raw",
   "id": "b5c8f041-bddd-44c1-a312-98a8b4a1e365",
   "metadata": {},
   "source": [
    "# 커피자판기\n",
    "1. 커피자판기 2. 메뉴 추가 3. 메뉴 삭제 4. 메뉴 목록 5. 종료\n",
    "- 커피자판기 : 무한 반복하면서 돈을 입력 받고, 메뉴를 선택해서 처리\n",
    "- 메뉴 추가 : 자판기에서 판매하는 메뉴를 추가하는 기능(메뉴 명, 가격)\n",
    "- 메뉴 삭제 : 전체 목록을 보여주고 삭제하고자 하는 항목을 선택하도록 해서 삭제 처리\n",
    "- 메뉴 목록 : 메뉴 리스트를 출력. 데이터를 정렬하는데, 메뉴 이름순 or 메뉴 가격순으로 정렬\n",
    "- 종료 : 종료"
   ]
  },
  {
   "cell_type": "code",
   "execution_count": 111,
   "id": "aa6726c1-7e4b-44ff-9ba1-4a5c163ecfad",
   "metadata": {},
   "outputs": [
    {
     "name": "stdin",
     "output_type": "stream",
     "text": [
      "\n",
      "---------------------------------------------------------\n",
      "1.커피 자판기    2.메뉴 추가    3.메뉴 삭제    4.메뉴 목록   5.종료\n",
      "---------------------------------------------------------\n",
      ">>> 1\n"
     ]
    },
    {
     "name": "stdout",
     "output_type": "stream",
     "text": [
      "메뉴를 선택하세요\n",
      "아메리카노 : 2,000원 라떼 : 1,500원 캐모마일 : 2,000원 페퍼민트 : 1,300원 \n"
     ]
    },
    {
     "name": "stdin",
     "output_type": "stream",
     "text": [
      "메뉴 선택(종료:Enter) >>>  \n",
      "\n",
      "---------------------------------------------------------\n",
      "1.커피 자판기    2.메뉴 추가    3.메뉴 삭제    4.메뉴 목록   5.종료\n",
      "---------------------------------------------------------\n",
      ">>> 1\n"
     ]
    },
    {
     "name": "stdout",
     "output_type": "stream",
     "text": [
      "메뉴를 선택하세요\n",
      "아메리카노 : 2,000원 라떼 : 1,500원 캐모마일 : 2,000원 페퍼민트 : 1,300원 \n"
     ]
    },
    {
     "name": "stdin",
     "output_type": "stream",
     "text": [
      "메뉴 선택(종료:Enter) >>>  \n",
      "\n",
      "---------------------------------------------------------\n",
      "1.커피 자판기    2.메뉴 추가    3.메뉴 삭제    4.메뉴 목록   5.종료\n",
      "---------------------------------------------------------\n",
      ">>> 1\n"
     ]
    },
    {
     "name": "stdout",
     "output_type": "stream",
     "text": [
      "메뉴를 선택하세요\n",
      "아메리카노 : 2,000원 라떼 : 1,500원 캐모마일 : 2,000원 페퍼민트 : 1,300원 \n"
     ]
    },
    {
     "name": "stdin",
     "output_type": "stream",
     "text": [
      "메뉴 선택(종료:Enter) >>>  라떼\n",
      "금액 투입 >>>  1000\n"
     ]
    },
    {
     "name": "stdout",
     "output_type": "stream",
     "text": [
      "투입 금액이 부족합니다. 투입 금액은 1000 입니다.\n",
      "아메리카노 : 2,000원 라떼 : 1,500원 캐모마일 : 2,000원 페퍼민트 : 1,300원 \n"
     ]
    },
    {
     "name": "stdin",
     "output_type": "stream",
     "text": [
      "메뉴 선택(종료:Enter) >>>  \n",
      "\n",
      "---------------------------------------------------------\n",
      "1.커피 자판기    2.메뉴 추가    3.메뉴 삭제    4.메뉴 목록   5.종료\n",
      "---------------------------------------------------------\n",
      ">>> 5\n"
     ]
    },
    {
     "name": "stdout",
     "output_type": "stream",
     "text": [
      "종료\n"
     ]
    }
   ],
   "source": [
    "item = {'아메리카노' : 2000,\n",
    "       '라떼' : 1500,\n",
    "       '캐모마일' : 2000,\n",
    "       '페퍼민트' : 1300}\n",
    "\n",
    "menu_display = '''\n",
    "---------------------------------------------------------\n",
    "1.커피 자판기    2.메뉴 추가    3.메뉴 삭제    4.메뉴 목록   5.종료\n",
    "---------------------------------------------------------\n",
    ">>>'''\n",
    "while True:\n",
    "    menu = input(menu_display)\n",
    "    if menu == '1':\n",
    "        print('메뉴를 선택하세요')\n",
    "        choice = '메뉴'\n",
    "        while choice:\n",
    "            for k, v in item.items():\n",
    "                print(f'{k} : {v:,}원', end = ' ')\n",
    "            print()\n",
    "            choice = input('메뉴 선택(종료:Enter) >>> ')\n",
    "            if choice == '':\n",
    "                break\n",
    "            money = int(input('금액 투입 >>> '))\n",
    "            if choice in item.keys():\n",
    "                if money >= item[choice]:\n",
    "                    money -= item[choice]\n",
    "                    print(f'{choice} 서비스 합니다. 거스름돈은 {money} 입니다.')\n",
    "                else:\n",
    "                    print(f'투입 금액이 부족합니다. 현재 투입 금액은 {money} 입니다.')\n",
    "            else:\n",
    "                print('해당 메뉴가 없습니다.')\n",
    "        \n",
    "    elif menu == '2':\n",
    "        print('메뉴 추가')\n",
    "        menu_name = input('메뉴명 >>> ')\n",
    "        menu_price = ''\n",
    "        while not menu_price.isdigit():\n",
    "            menu_price = input('메뉴 가격 >>> ')\n",
    "        menu_price = int(menu_price)\n",
    "        \n",
    "        if menu_name in item.keys():\n",
    "            print(f'{menu_name} 메뉴가 있습니다. 수정합니다.')\n",
    "        else:\n",
    "            print(f'{menu_name} 메뉴를 추가합니다.')\n",
    "        item[menu_name] = menu_price\n",
    "        print(item)\n",
    "    elif menu == '3':\n",
    "        print('메뉴 삭제')\n",
    "        menu_name = input('삭제하려는 메뉴명 >>> ')\n",
    "        if menu_name in item.keys():\n",
    "            print(f'{menu_name} 메뉴가 있습니다. 삭제합니다.')\n",
    "            del item[menu_name]\n",
    "        else:\n",
    "            print('해당 메뉴가 없습니다.')\n",
    "    elif menu == '4':\n",
    "        print('메뉴 목록')\n",
    "        menu_1 = input('1.메뉴 이름순 2.메뉴 가격순 >>> ')\n",
    "        if menu_1 == '1':\n",
    "            for k, v in sorted(item.items(), key=lambda x : x[0]):\n",
    "                print(f'{k:25} : {v:10,}원')\n",
    "        elif menu_1 == '2':\n",
    "            for k, v in sorted(item.items(), key=lambda x : x[1]):\n",
    "                print(f'{k:25} : {v:10,}원')\n",
    "    elif menu == '5':\n",
    "        print('종료')\n",
    "        break\n",
    "    else:\n",
    "        print('올바른 메뉴를 선택해주십시오.')\n"
   ]
  },
  {
   "cell_type": "markdown",
   "id": "a9bc2c29-34d3-43f6-be25-7feab2b7fa86",
   "metadata": {},
   "source": []
  }
 ],
 "metadata": {
  "kernelspec": {
   "display_name": "Python 3 (ipykernel)",
   "language": "python",
   "name": "python3"
  },
  "language_info": {
   "codemirror_mode": {
    "name": "ipython",
    "version": 3
   },
   "file_extension": ".py",
   "mimetype": "text/x-python",
   "name": "python",
   "nbconvert_exporter": "python",
   "pygments_lexer": "ipython3",
   "version": "3.9.12"
  }
 },
 "nbformat": 4,
 "nbformat_minor": 5
}
