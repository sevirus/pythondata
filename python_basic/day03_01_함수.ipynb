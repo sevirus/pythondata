{
 "cells": [
  {
   "cell_type": "code",
   "execution_count": 6,
   "id": "c32026d7-b789-41a2-9a12-02f4b4d0041f",
   "metadata": {},
   "outputs": [
    {
     "data": {
      "text/plain": [
       "[1, 4, 2, 3, 2, 4, 1, 5, 5, 6, 7, 7]"
      ]
     },
     "execution_count": 6,
     "metadata": {},
     "output_type": "execute_result"
    }
   ],
   "source": [
    "a = [1,4,2,3,2,4,1,5,5,6,7,7]\n",
    "a"
   ]
  },
  {
   "cell_type": "code",
   "execution_count": 2,
   "id": "6037fcaf-84f4-471f-a568-6d517a38bd55",
   "metadata": {},
   "outputs": [
    {
     "data": {
      "text/plain": [
       "{1, 2, 3, 4, 5, 6, 7}"
      ]
     },
     "execution_count": 2,
     "metadata": {},
     "output_type": "execute_result"
    }
   ],
   "source": [
    "set(a)"
   ]
  },
  {
   "cell_type": "code",
   "execution_count": 3,
   "id": "9c8f9901-4a4e-4e19-a8cd-4ba904be5fee",
   "metadata": {},
   "outputs": [
    {
     "data": {
      "text/plain": [
       "[1, 4, 2, 3, 2, 4, 1, 5, 5, 6, 7, 7]"
      ]
     },
     "execution_count": 3,
     "metadata": {},
     "output_type": "execute_result"
    }
   ],
   "source": [
    "a"
   ]
  },
  {
   "cell_type": "code",
   "execution_count": 4,
   "id": "bba1c61e-ed59-43d2-817c-e210b7c70aef",
   "metadata": {},
   "outputs": [
    {
     "name": "stdout",
     "output_type": "stream",
     "text": [
      "7\n",
      "7\n",
      "6\n",
      "5\n",
      "5\n",
      "1\n",
      "4\n",
      "2\n",
      "3\n",
      "2\n",
      "4\n",
      "1\n"
     ]
    }
   ],
   "source": [
    "while a:\n",
    "    print(a.pop())"
   ]
  },
  {
   "cell_type": "code",
   "execution_count": null,
   "id": "11a608c8-8d5e-41e5-94c4-950457690c03",
   "metadata": {},
   "outputs": [],
   "source": []
  },
  {
   "cell_type": "code",
   "execution_count": 5,
   "id": "6a79aea1-62d9-4be9-b5c8-bb9b802a4c48",
   "metadata": {},
   "outputs": [
    {
     "data": {
      "text/plain": [
       "[]"
      ]
     },
     "execution_count": 5,
     "metadata": {},
     "output_type": "execute_result"
    }
   ],
   "source": [
    "a"
   ]
  },
  {
   "cell_type": "code",
   "execution_count": 7,
   "id": "3a41c782-0204-4a3e-99dc-54d67be34ca5",
   "metadata": {},
   "outputs": [
    {
     "data": {
      "text/plain": [
       "[1, 4, 2, 3, 2, 4, 1, 5, 5, 6, 7, 7]"
      ]
     },
     "execution_count": 7,
     "metadata": {},
     "output_type": "execute_result"
    }
   ],
   "source": [
    "a"
   ]
  },
  {
   "cell_type": "code",
   "execution_count": 8,
   "id": "6a6dc97c-0acd-498e-9c1e-9250ac8add4f",
   "metadata": {},
   "outputs": [],
   "source": [
    "def add(a,b):\n",
    "    return a+b"
   ]
  },
  {
   "cell_type": "code",
   "execution_count": 10,
   "id": "8a0468a9-4a0a-4401-a50c-90ed651a9b63",
   "metadata": {},
   "outputs": [
    {
     "data": {
      "text/plain": [
       "4"
      ]
     },
     "execution_count": 10,
     "metadata": {},
     "output_type": "execute_result"
    }
   ],
   "source": [
    "add(1,3)"
   ]
  },
  {
   "cell_type": "code",
   "execution_count": 11,
   "id": "c90ee354-2948-421c-be6f-459e59cd72ef",
   "metadata": {},
   "outputs": [],
   "source": [
    "def qus(a,b):\n",
    "    return a,b"
   ]
  },
  {
   "cell_type": "code",
   "execution_count": 12,
   "id": "69a7b495-a13a-48cd-986e-93d0361277d6",
   "metadata": {},
   "outputs": [
    {
     "data": {
      "text/plain": [
       "(1, 2)"
      ]
     },
     "execution_count": 12,
     "metadata": {},
     "output_type": "execute_result"
    }
   ],
   "source": [
    "qus(1,2)"
   ]
  },
  {
   "cell_type": "code",
   "execution_count": 13,
   "id": "9e7a89ef-2e3d-4b90-9ef5-7697de83640b",
   "metadata": {},
   "outputs": [
    {
     "ename": "TypeError",
     "evalue": "add() missing 1 required positional argument: 'b'",
     "output_type": "error",
     "traceback": [
      "\u001b[0;31m---------------------------------------------------------------------------\u001b[0m",
      "\u001b[0;31mTypeError\u001b[0m                                 Traceback (most recent call last)",
      "Input \u001b[0;32mIn [13]\u001b[0m, in \u001b[0;36m<cell line: 1>\u001b[0;34m()\u001b[0m\n\u001b[0;32m----> 1\u001b[0m \u001b[43madd\u001b[49m\u001b[43m(\u001b[49m\u001b[43mqus\u001b[49m\u001b[43m(\u001b[49m\u001b[38;5;241;43m1\u001b[39;49m\u001b[43m,\u001b[49m\u001b[38;5;241;43m2\u001b[39;49m\u001b[43m)\u001b[49m\u001b[43m)\u001b[49m\n",
      "\u001b[0;31mTypeError\u001b[0m: add() missing 1 required positional argument: 'b'"
     ]
    }
   ],
   "source": [
    "add(qus(1,2))"
   ]
  },
  {
   "cell_type": "code",
   "execution_count": 14,
   "id": "d8dcf043-eb33-49b5-accb-554c3650f7f7",
   "metadata": {},
   "outputs": [
    {
     "data": {
      "text/plain": [
       "4"
      ]
     },
     "execution_count": 14,
     "metadata": {},
     "output_type": "execute_result"
    }
   ],
   "source": [
    "add(b=3,a=1)"
   ]
  },
  {
   "cell_type": "code",
   "execution_count": 19,
   "id": "a943cb6b-f0b0-4d08-b6e9-14642e0920e4",
   "metadata": {},
   "outputs": [],
   "source": [
    "def add_many(*args):\n",
    "    result = 0\n",
    "    for i in args:\n",
    "        result += + i\n",
    "    return result"
   ]
  },
  {
   "cell_type": "code",
   "execution_count": 20,
   "id": "840f00e8-b07e-472a-9afe-8b355d8d0810",
   "metadata": {},
   "outputs": [
    {
     "data": {
      "text/plain": [
       "16"
      ]
     },
     "execution_count": 20,
     "metadata": {},
     "output_type": "execute_result"
    }
   ],
   "source": [
    "add_many(1,4,2,3,2,1,3)"
   ]
  },
  {
   "cell_type": "code",
   "execution_count": 21,
   "id": "757e82d8-44f6-48c5-88d6-f1c37115fbcf",
   "metadata": {},
   "outputs": [],
   "source": [
    "def add_mul(choice, *args): \n",
    "...     if choice == \"add\": \n",
    "...         result = 0 \n",
    "...         for i in args: \n",
    "...             result = result + i \n",
    "...     elif choice == \"mul\": \n",
    "...         result = 1 \n",
    "...         for i in args: \n",
    "...             result = result * i \n",
    "...     return result "
   ]
  },
  {
   "cell_type": "code",
   "execution_count": 22,
   "id": "c60c2d3a-a0d8-488a-a7e1-36043b37f2e3",
   "metadata": {},
   "outputs": [
    {
     "data": {
      "text/plain": [
       "55"
      ]
     },
     "execution_count": 22,
     "metadata": {},
     "output_type": "execute_result"
    }
   ],
   "source": [
    "add_mul('add',1,2,3,4,5,6,7,8,9,10)"
   ]
  },
  {
   "cell_type": "raw",
   "id": "47a4d293-9aff-4f59-ba47-aafa5a6974b3",
   "metadata": {},
   "source": [
    " # 순서 상으로 디폴트 값이 잡힌 것들은 뒤로 보내고\n",
    " # 잡히지 않은 것들은 앞으로 적어줘야 함!\n",
    " ex) (a, b=True)"
   ]
  },
  {
   "cell_type": "code",
   "execution_count": 23,
   "id": "9f06bbf5-feeb-44fe-ad1a-307dcb0ae56c",
   "metadata": {},
   "outputs": [],
   "source": [
    "import re"
   ]
  },
  {
   "cell_type": "code",
   "execution_count": 30,
   "id": "fa859494-a715-45dd-883e-0e496ece564f",
   "metadata": {},
   "outputs": [],
   "source": [
    "p = re.compile('[a-z]+')\n",
    "m = p.match('Python1python')\n",
    "m"
   ]
  },
  {
   "cell_type": "code",
   "execution_count": 25,
   "id": "c12b33a9-95ac-48e1-a820-95d9b2f1ad27",
   "metadata": {},
   "outputs": [],
   "source": []
  },
  {
   "cell_type": "code",
   "execution_count": 28,
   "id": "945b7e83-546d-4ca5-a6b3-7f892659f8b5",
   "metadata": {},
   "outputs": [
    {
     "data": {
      "text/plain": [
       "<re.Match object; span=(1, 6), match='ython'>"
      ]
     },
     "execution_count": 28,
     "metadata": {},
     "output_type": "execute_result"
    }
   ],
   "source": [
    "p = re.compile('[a-z]+')\n",
    "m = p.search('Python1python')\n",
    "m"
   ]
  },
  {
   "cell_type": "code",
   "execution_count": 31,
   "id": "c3c9757e-46b6-475e-9598-1894d74bbbe0",
   "metadata": {},
   "outputs": [
    {
     "data": {
      "text/plain": [
       "['life', 'is', 'too', 'short']"
      ]
     },
     "execution_count": 31,
     "metadata": {},
     "output_type": "execute_result"
    }
   ],
   "source": [
    "result = p.findall(\"life is too short\")\n",
    "result"
   ]
  },
  {
   "cell_type": "code",
   "execution_count": 43,
   "id": "2036ea33-2440-424a-9e65-161a9b631567",
   "metadata": {},
   "outputs": [
    {
     "name": "stdin",
     "output_type": "stream",
     "text": [
      "이메일 >>>  asdxzc@naver.com\n"
     ]
    },
    {
     "data": {
      "text/plain": [
       "<re.Match object; span=(0, 16), match='asdxzc@naver.com'>"
      ]
     },
     "execution_count": 43,
     "metadata": {},
     "output_type": "execute_result"
    }
   ],
   "source": [
    "p = re.compile('[a-z][a-z0-9]{4,}@[a-z]{2,}[.](kr|com|org|net)$')\n",
    "# {4,} 4자리 이상, {2,} 2자리 이상 .kr/com/org/net 판별하기\n",
    "email = input('이메일 >>> ')\n",
    "result = p.match(email)\n",
    "result"
   ]
  },
  {
   "cell_type": "code",
   "execution_count": null,
   "id": "f2289ff7-3f0d-444c-95cf-a1c8651d433e",
   "metadata": {},
   "outputs": [],
   "source": []
  }
 ],
 "metadata": {
  "kernelspec": {
   "display_name": "Python 3 (ipykernel)",
   "language": "python",
   "name": "python3"
  },
  "language_info": {
   "codemirror_mode": {
    "name": "ipython",
    "version": 3
   },
   "file_extension": ".py",
   "mimetype": "text/x-python",
   "name": "python",
   "nbconvert_exporter": "python",
   "pygments_lexer": "ipython3",
   "version": "3.9.12"
  }
 },
 "nbformat": 4,
 "nbformat_minor": 5
}
