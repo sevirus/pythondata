{
 "cells": [
  {
   "cell_type": "raw",
   "id": "0e6a3fcd-29c5-447f-b42e-9a8788c5feb3",
   "metadata": {},
   "source": [
    "숫자형"
   ]
  },
  {
   "cell_type": "markdown",
   "id": "b560a9d3-ea10-40e1-b2e1-e08f0a8c5ab7",
   "metadata": {},
   "source": [
    "# 숫자형"
   ]
  },
  {
   "cell_type": "code",
   "execution_count": 4,
   "id": "28251bf0-0277-4564-af14-e0ba28c6a984",
   "metadata": {},
   "outputs": [],
   "source": [
    "a = 123"
   ]
  },
  {
   "cell_type": "code",
   "execution_count": 5,
   "id": "5a217464-8495-49fa-8c5c-f41b1d75bc30",
   "metadata": {},
   "outputs": [
    {
     "name": "stdout",
     "output_type": "stream",
     "text": [
      "123\n"
     ]
    }
   ],
   "source": [
    "print(a)"
   ]
  },
  {
   "cell_type": "code",
   "execution_count": null,
   "id": "5e53791d-b6ca-47ea-bf60-ad3b7a2da342",
   "metadata": {},
   "outputs": [],
   "source": []
  },
  {
   "cell_type": "code",
   "execution_count": 6,
   "id": "aa706a54-771a-4934-961e-64032f0d45ae",
   "metadata": {},
   "outputs": [
    {
     "data": {
      "text/plain": [
       "123"
      ]
     },
     "execution_count": 6,
     "metadata": {},
     "output_type": "execute_result"
    }
   ],
   "source": [
    "a"
   ]
  },
  {
   "cell_type": "code",
   "execution_count": 7,
   "id": "22cdcc21-6ca8-40eb-aa59-37ce0186286d",
   "metadata": {},
   "outputs": [],
   "source": [
    "b = 456"
   ]
  },
  {
   "cell_type": "code",
   "execution_count": 8,
   "id": "6f479d24-6246-43b2-b733-a53939022c43",
   "metadata": {},
   "outputs": [
    {
     "data": {
      "text/plain": [
       "(123, 456)"
      ]
     },
     "execution_count": 8,
     "metadata": {},
     "output_type": "execute_result"
    }
   ],
   "source": [
    "a, b"
   ]
  },
  {
   "cell_type": "code",
   "execution_count": 9,
   "id": "850ba700-fccf-4b06-9047-6acddad896c1",
   "metadata": {},
   "outputs": [
    {
     "name": "stdout",
     "output_type": "stream",
     "text": [
      "123\n"
     ]
    },
    {
     "data": {
      "text/plain": [
       "456"
      ]
     },
     "execution_count": 9,
     "metadata": {},
     "output_type": "execute_result"
    }
   ],
   "source": [
    "print(a)\n",
    "b"
   ]
  },
  {
   "cell_type": "code",
   "execution_count": 10,
   "id": "ef3732e6-2bca-4b9e-a294-7b88b40224d3",
   "metadata": {},
   "outputs": [
    {
     "data": {
      "text/plain": [
       "int"
      ]
     },
     "execution_count": 10,
     "metadata": {},
     "output_type": "execute_result"
    }
   ],
   "source": [
    "type(a)"
   ]
  },
  {
   "cell_type": "code",
   "execution_count": 11,
   "id": "ec1b47b0-e2ca-4628-8c83-d944ffd4c0a7",
   "metadata": {},
   "outputs": [],
   "source": [
    "a = 111"
   ]
  },
  {
   "cell_type": "code",
   "execution_count": 12,
   "id": "58a6302a-5c3f-4aee-b167-5d0b4c6afaa2",
   "metadata": {},
   "outputs": [
    {
     "data": {
      "text/plain": [
       "111"
      ]
     },
     "execution_count": 12,
     "metadata": {},
     "output_type": "execute_result"
    }
   ],
   "source": [
    "a"
   ]
  },
  {
   "cell_type": "code",
   "execution_count": 13,
   "id": "7386c265-0945-44d0-8819-c760b51c5045",
   "metadata": {},
   "outputs": [],
   "source": [
    "a = 0o111"
   ]
  },
  {
   "cell_type": "code",
   "execution_count": 14,
   "id": "58f8933f-d425-4d23-9f66-a98c9e3ef94b",
   "metadata": {},
   "outputs": [
    {
     "ename": "SyntaxError",
     "evalue": "invalid syntax (1442136552.py, line 2)",
     "output_type": "error",
     "traceback": [
      "\u001b[0;36m  Input \u001b[0;32mIn [14]\u001b[0;36m\u001b[0m\n\u001b[0;31m    =\u001b[0m\n\u001b[0m    ^\u001b[0m\n\u001b[0;31mSyntaxError\u001b[0m\u001b[0;31m:\u001b[0m invalid syntax\n"
     ]
    }
   ],
   "source": [
    "a\n",
    "="
   ]
  },
  {
   "cell_type": "code",
   "execution_count": 15,
   "id": "1904ed42-9d91-4e93-8ae9-8135c5e79468",
   "metadata": {},
   "outputs": [
    {
     "data": {
      "text/plain": [
       "73"
      ]
     },
     "execution_count": 15,
     "metadata": {},
     "output_type": "execute_result"
    }
   ],
   "source": [
    "a"
   ]
  },
  {
   "cell_type": "code",
   "execution_count": 16,
   "id": "bc2ef858-70c0-4699-a3a9-a02563802f0d",
   "metadata": {},
   "outputs": [
    {
     "data": {
      "text/plain": [
       "73"
      ]
     },
     "execution_count": 16,
     "metadata": {},
     "output_type": "execute_result"
    }
   ],
   "source": [
    "a"
   ]
  },
  {
   "cell_type": "code",
   "execution_count": 17,
   "id": "3f81e1f7-ebc9-4e2d-8415-08f2fe9865e6",
   "metadata": {},
   "outputs": [
    {
     "data": {
      "text/plain": [
       "int"
      ]
     },
     "execution_count": 17,
     "metadata": {},
     "output_type": "execute_result"
    }
   ],
   "source": [
    "type(a)"
   ]
  },
  {
   "cell_type": "code",
   "execution_count": 19,
   "id": "d9b8a094-e098-4278-bd0f-6af4390ddbbf",
   "metadata": {
    "tags": []
   },
   "outputs": [
    {
     "name": "stdin",
     "output_type": "stream",
     "text": [
      "숫자를 입력하세요 >>> 1111111111\n"
     ]
    }
   ],
   "source": [
    "num1 = input('숫자를 입력하세요 >>>')"
   ]
  },
  {
   "cell_type": "code",
   "execution_count": 20,
   "id": "2ddbf233-1709-47a2-904d-be5fa3d22b7f",
   "metadata": {},
   "outputs": [
    {
     "data": {
      "text/plain": [
       "'1111111111'"
      ]
     },
     "execution_count": 20,
     "metadata": {},
     "output_type": "execute_result"
    }
   ],
   "source": [
    "num1"
   ]
  },
  {
   "cell_type": "code",
   "execution_count": 21,
   "id": "8349f6a6-29e0-4d35-ab1f-d99d4aeef53d",
   "metadata": {},
   "outputs": [],
   "source": [
    "# 박스에 과일을 넣는 작업 중입니다.\n",
    "# 박스당 들어가는 과일의 갯수와 전체 과일의 갯수를 입력 받아서\n",
    "# 박스의 수와 남은 과일의 갯수를 출력합니다."
   ]
  },
  {
   "cell_type": "code",
   "execution_count": 22,
   "id": "c23d5a4f-197b-415a-9ef1-29427f56a799",
   "metadata": {},
   "outputs": [
    {
     "name": "stdin",
     "output_type": "stream",
     "text": [
      "박스당 들어가는 과일의 갯수를 입력하세요 >>> 6\n",
      "전체 과일의 갯수를 입력하세요 >>> 10\n"
     ]
    },
    {
     "ename": "TypeError",
     "evalue": "unsupported operand type(s) for /: 'str' and 'str'",
     "output_type": "error",
     "traceback": [
      "\u001b[0;31m---------------------------------------------------------------------------\u001b[0m",
      "\u001b[0;31mTypeError\u001b[0m                                 Traceback (most recent call last)",
      "Input \u001b[0;32mIn [22]\u001b[0m, in \u001b[0;36m<cell line: 3>\u001b[0;34m()\u001b[0m\n\u001b[1;32m      1\u001b[0m boxNum \u001b[38;5;241m=\u001b[39m \u001b[38;5;28minput\u001b[39m(\u001b[38;5;124m'\u001b[39m\u001b[38;5;124m박스당 들어가는 과일의 갯수를 입력하세요 >>>\u001b[39m\u001b[38;5;124m'\u001b[39m)\n\u001b[1;32m      2\u001b[0m futNum \u001b[38;5;241m=\u001b[39m \u001b[38;5;28minput\u001b[39m(\u001b[38;5;124m'\u001b[39m\u001b[38;5;124m전체 과일의 갯수를 입력하세요 >>>\u001b[39m\u001b[38;5;124m'\u001b[39m)\n\u001b[0;32m----> 3\u001b[0m boxNum \u001b[38;5;241m=\u001b[39m \u001b[43mfutNum\u001b[49m\u001b[43m \u001b[49m\u001b[38;5;241;43m/\u001b[39;49m\u001b[43m \u001b[49m\u001b[43mboxNum\u001b[49m\n\u001b[1;32m      4\u001b[0m \u001b[38;5;28mprint\u001b[39m(\u001b[38;5;124m'\u001b[39m\u001b[38;5;124m박스의 수 >>>\u001b[39m\u001b[38;5;124m'\u001b[39m \u001b[38;5;241m+\u001b[39m boxNum \u001b[38;5;241m+\u001b[39m \u001b[38;5;124m'\u001b[39m\u001b[38;5;124m개\u001b[39m\u001b[38;5;124m'\u001b[39m)\n\u001b[1;32m      5\u001b[0m futNum \u001b[38;5;241m=\u001b[39m futNum \u001b[38;5;241m%\u001b[39m boxNum\n",
      "\u001b[0;31mTypeError\u001b[0m: unsupported operand type(s) for /: 'str' and 'str'"
     ]
    }
   ],
   "source": [
    "boxNum = input('박스당 들어가는 과일의 갯수를 입력하세요 >>>')\n",
    "futNum = input('전체 과일의 갯수를 입력하세요 >>>')\n",
    "boxNum = futNum / boxNum\n",
    "print('박스의 수 >>>' + boxNum + '개')\n",
    "futNum = futNum % boxNum\n",
    "print('남은 과일의 수 >>>' + futNum + '개')"
   ]
  },
  {
   "cell_type": "code",
   "execution_count": 23,
   "id": "47b1831c-d4a4-409c-add8-6ab7d286c8b9",
   "metadata": {},
   "outputs": [
    {
     "name": "stdin",
     "output_type": "stream",
     "text": [
      "박스당 들어가는 과일의 갯수를 입력하세요 >>> 6\n",
      "전체 과일의 갯수를 입력하세요 >>> 10\n"
     ]
    },
    {
     "ename": "TypeError",
     "evalue": "unsupported operand type(s) for /: 'str' and 'str'",
     "output_type": "error",
     "traceback": [
      "\u001b[0;31m---------------------------------------------------------------------------\u001b[0m",
      "\u001b[0;31mTypeError\u001b[0m                                 Traceback (most recent call last)",
      "Input \u001b[0;32mIn [23]\u001b[0m, in \u001b[0;36m<cell line: 3>\u001b[0;34m()\u001b[0m\n\u001b[1;32m      1\u001b[0m boxNum \u001b[38;5;241m=\u001b[39m \u001b[38;5;28minput\u001b[39m(\u001b[38;5;124m'\u001b[39m\u001b[38;5;124m박스당 들어가는 과일의 갯수를 입력하세요 >>>\u001b[39m\u001b[38;5;124m'\u001b[39m)\n\u001b[1;32m      2\u001b[0m futNum \u001b[38;5;241m=\u001b[39m \u001b[38;5;28minput\u001b[39m(\u001b[38;5;124m'\u001b[39m\u001b[38;5;124m전체 과일의 갯수를 입력하세요 >>>\u001b[39m\u001b[38;5;124m'\u001b[39m)\n\u001b[0;32m----> 3\u001b[0m boxres \u001b[38;5;241m=\u001b[39m \u001b[43mfutNum\u001b[49m\u001b[43m \u001b[49m\u001b[38;5;241;43m/\u001b[39;49m\u001b[43m \u001b[49m\u001b[43mboxNum\u001b[49m\n\u001b[1;32m      4\u001b[0m \u001b[38;5;28mprint\u001b[39m(\u001b[38;5;124m'\u001b[39m\u001b[38;5;124m박스의 수 >>>\u001b[39m\u001b[38;5;124m'\u001b[39m \u001b[38;5;241m+\u001b[39m boxres \u001b[38;5;241m+\u001b[39m \u001b[38;5;124m'\u001b[39m\u001b[38;5;124m개\u001b[39m\u001b[38;5;124m'\u001b[39m)\n\u001b[1;32m      5\u001b[0m futres \u001b[38;5;241m=\u001b[39m futNum \u001b[38;5;241m%\u001b[39m boxNum\n",
      "\u001b[0;31mTypeError\u001b[0m: unsupported operand type(s) for /: 'str' and 'str'"
     ]
    }
   ],
   "source": [
    "boxNum = input('박스당 들어가는 과일의 갯수를 입력하세요 >>>')\n",
    "futNum = input('전체 과일의 갯수를 입력하세요 >>>')\n",
    "boxres = futNum / boxNum\n",
    "print('박스의 수 >>>' + boxres + '개')\n",
    "futres = futNum % boxNum\n",
    "print('남은 과일의 수 >>>' + futres + '개')"
   ]
  },
  {
   "cell_type": "code",
   "execution_count": 24,
   "id": "286ca433-28ba-42be-b0b1-82ec588401ea",
   "metadata": {},
   "outputs": [
    {
     "ename": "SyntaxError",
     "evalue": "invalid syntax (2948850712.py, line 3)",
     "output_type": "error",
     "traceback": [
      "\u001b[0;36m  Input \u001b[0;32mIn [24]\u001b[0;36m\u001b[0m\n\u001b[0;31m    boxNum = (int)futNum / (int)boxNum\u001b[0m\n\u001b[0m                  ^\u001b[0m\n\u001b[0;31mSyntaxError\u001b[0m\u001b[0;31m:\u001b[0m invalid syntax\n"
     ]
    }
   ],
   "source": [
    "boxNum = input('박스당 들어가는 과일의 갯수를 입력하세요 >>>')\n",
    "futNum = input('전체 과일의 갯수를 입력하세요 >>>')\n",
    "boxNum = (int)futNum / (int)boxNum\n",
    "print('박스의 수 >>>' + boxNum + '개')\n",
    "futNum = (int)futNum % (int)boxNum\n",
    "print('남은 과일의 수 >>>' + futNum + '개')"
   ]
  },
  {
   "cell_type": "code",
   "execution_count": 25,
   "id": "c891af89-383a-4555-9c4b-b8df9d1c2cc4",
   "metadata": {},
   "outputs": [
    {
     "name": "stdin",
     "output_type": "stream",
     "text": [
      "박스당 들어가는 과일의 갯수를 입력하세요 >>> 6\n",
      "전체 과일의 갯수를 입력하세요 >>> 10\n"
     ]
    },
    {
     "ename": "TypeError",
     "evalue": "unsupported operand type(s) for //: 'str' and 'str'",
     "output_type": "error",
     "traceback": [
      "\u001b[0;31m---------------------------------------------------------------------------\u001b[0m",
      "\u001b[0;31mTypeError\u001b[0m                                 Traceback (most recent call last)",
      "Input \u001b[0;32mIn [25]\u001b[0m, in \u001b[0;36m<cell line: 3>\u001b[0;34m()\u001b[0m\n\u001b[1;32m      1\u001b[0m boxNum \u001b[38;5;241m=\u001b[39m \u001b[38;5;28minput\u001b[39m(\u001b[38;5;124m'\u001b[39m\u001b[38;5;124m박스당 들어가는 과일의 갯수를 입력하세요 >>>\u001b[39m\u001b[38;5;124m'\u001b[39m)\n\u001b[1;32m      2\u001b[0m futNum \u001b[38;5;241m=\u001b[39m \u001b[38;5;28minput\u001b[39m(\u001b[38;5;124m'\u001b[39m\u001b[38;5;124m전체 과일의 갯수를 입력하세요 >>>\u001b[39m\u001b[38;5;124m'\u001b[39m)\n\u001b[0;32m----> 3\u001b[0m boxres \u001b[38;5;241m=\u001b[39m \u001b[43mfutNum\u001b[49m\u001b[43m \u001b[49m\u001b[38;5;241;43m/\u001b[39;49m\u001b[38;5;241;43m/\u001b[39;49m\u001b[43m \u001b[49m\u001b[43mboxNum\u001b[49m\n\u001b[1;32m      4\u001b[0m \u001b[38;5;28mprint\u001b[39m(\u001b[38;5;124m'\u001b[39m\u001b[38;5;124m박스의 수 >>>\u001b[39m\u001b[38;5;124m'\u001b[39m \u001b[38;5;241m+\u001b[39m boxres \u001b[38;5;241m+\u001b[39m \u001b[38;5;124m'\u001b[39m\u001b[38;5;124m개\u001b[39m\u001b[38;5;124m'\u001b[39m)\n\u001b[1;32m      5\u001b[0m futres \u001b[38;5;241m=\u001b[39m futNum \u001b[38;5;241m%\u001b[39m boxNum\n",
      "\u001b[0;31mTypeError\u001b[0m: unsupported operand type(s) for //: 'str' and 'str'"
     ]
    }
   ],
   "source": [
    "boxNum = input('박스당 들어가는 과일의 갯수를 입력하세요 >>>')\n",
    "futNum = input('전체 과일의 갯수를 입력하세요 >>>')\n",
    "boxres = futNum // boxNum\n",
    "print('박스의 수 >>>' + boxres + '개')\n",
    "futres = futNum % boxNum\n",
    "print('남은 과일의 수 >>>' + futres + '개')"
   ]
  },
  {
   "cell_type": "code",
   "execution_count": 26,
   "id": "51550849-7977-48f4-8c4b-e175d23579ce",
   "metadata": {},
   "outputs": [
    {
     "name": "stdin",
     "output_type": "stream",
     "text": [
      "박스당 들어가는 과일의 갯수를 입력하세요 >>> 6\n",
      "전체 과일의 갯수를 입력하세요 >>> 10\n"
     ]
    },
    {
     "ename": "TypeError",
     "evalue": "can only concatenate str (not \"int\") to str",
     "output_type": "error",
     "traceback": [
      "\u001b[0;31m---------------------------------------------------------------------------\u001b[0m",
      "\u001b[0;31mTypeError\u001b[0m                                 Traceback (most recent call last)",
      "Input \u001b[0;32mIn [26]\u001b[0m, in \u001b[0;36m<cell line: 5>\u001b[0;34m()\u001b[0m\n\u001b[1;32m      3\u001b[0m boxres \u001b[38;5;241m=\u001b[39m futNum \u001b[38;5;241m/\u001b[39m\u001b[38;5;241m/\u001b[39m boxNum\n\u001b[1;32m      4\u001b[0m futres \u001b[38;5;241m=\u001b[39m futNum \u001b[38;5;241m%\u001b[39m boxNum\n\u001b[0;32m----> 5\u001b[0m \u001b[38;5;28mprint\u001b[39m(\u001b[38;5;124;43m'\u001b[39;49m\u001b[38;5;124;43m박스의 수 >>>\u001b[39;49m\u001b[38;5;124;43m'\u001b[39;49m\u001b[43m \u001b[49m\u001b[38;5;241;43m+\u001b[39;49m\u001b[43m \u001b[49m\u001b[43mboxres\u001b[49m \u001b[38;5;241m+\u001b[39m \u001b[38;5;124m'\u001b[39m\u001b[38;5;124m개\u001b[39m\u001b[38;5;124m'\u001b[39m)\n\u001b[1;32m      6\u001b[0m \u001b[38;5;28mprint\u001b[39m(\u001b[38;5;124m'\u001b[39m\u001b[38;5;124m남은 과일의 수 >>>\u001b[39m\u001b[38;5;124m'\u001b[39m \u001b[38;5;241m+\u001b[39m futres \u001b[38;5;241m+\u001b[39m \u001b[38;5;124m'\u001b[39m\u001b[38;5;124m개\u001b[39m\u001b[38;5;124m'\u001b[39m)\n",
      "\u001b[0;31mTypeError\u001b[0m: can only concatenate str (not \"int\") to str"
     ]
    }
   ],
   "source": [
    "boxNum = int(input('박스당 들어가는 과일의 갯수를 입력하세요 >>>'))\n",
    "futNum = int(input('전체 과일의 갯수를 입력하세요 >>>'))\n",
    "boxres = futNum // boxNum\n",
    "futres = futNum % boxNum\n",
    "print('박스의 수 >>>' + boxres + '개')\n",
    "print('남은 과일의 수 >>>' + futres + '개')"
   ]
  },
  {
   "cell_type": "code",
   "execution_count": 27,
   "id": "d01bd616-cb14-44a5-9a19-29a4bbf6da86",
   "metadata": {},
   "outputs": [
    {
     "name": "stdin",
     "output_type": "stream",
     "text": [
      "박스당 들어가는 과일의 갯수를 입력하세요 >>> 6\n",
      "전체 과일의 갯수를 입력하세요 >>> 10\n"
     ]
    },
    {
     "name": "stdout",
     "output_type": "stream",
     "text": [
      "박스의 수 >>> 1 개\n",
      "남은 과일의 수 >>> 4 개\n"
     ]
    }
   ],
   "source": [
    "boxNum = int(input('박스당 들어가는 과일의 갯수를 입력하세요 >>>'))\n",
    "futNum = int(input('전체 과일의 갯수를 입력하세요 >>>'))\n",
    "boxres = futNum // boxNum\n",
    "futres = futNum % boxNum\n",
    "print('박스의 수 >>>',boxres,'개')\n",
    "print('남은 과일의 수 >>>',futres,'개')"
   ]
  },
  {
   "cell_type": "code",
   "execution_count": 28,
   "id": "cc139601-9e91-4fb8-988a-998dec01154f",
   "metadata": {},
   "outputs": [
    {
     "data": {
      "text/plain": [
       "'\\\\n\\n\\n'"
      ]
     },
     "execution_count": 28,
     "metadata": {},
     "output_type": "execute_result"
    }
   ],
   "source": [
    "'''\\\\n\\n\\n'''"
   ]
  },
  {
   "cell_type": "code",
   "execution_count": 29,
   "id": "273c3a09-07cc-46a4-8658-7e3a0d56e8ba",
   "metadata": {},
   "outputs": [],
   "source": [
    "a = 'life is good'"
   ]
  },
  {
   "cell_type": "code",
   "execution_count": 30,
   "id": "013d8921-1113-4582-8dba-fc21b7c2d6bd",
   "metadata": {},
   "outputs": [
    {
     "data": {
      "text/plain": [
       "'life is good'"
      ]
     },
     "execution_count": 30,
     "metadata": {},
     "output_type": "execute_result"
    }
   ],
   "source": [
    "a"
   ]
  },
  {
   "cell_type": "code",
   "execution_count": 31,
   "id": "8bc419f5-ccca-4dd3-8d02-211d248a2603",
   "metadata": {},
   "outputs": [],
   "source": [
    "b = len(a)"
   ]
  },
  {
   "cell_type": "code",
   "execution_count": 32,
   "id": "7688c567-a144-45c5-94ed-2fc7a2d70d87",
   "metadata": {},
   "outputs": [
    {
     "data": {
      "text/plain": [
       "12"
      ]
     },
     "execution_count": 32,
     "metadata": {},
     "output_type": "execute_result"
    }
   ],
   "source": [
    "b"
   ]
  },
  {
   "cell_type": "code",
   "execution_count": 33,
   "id": "44e06086-606a-4569-960c-b56ed722fc79",
   "metadata": {},
   "outputs": [
    {
     "data": {
      "text/plain": [
       "int"
      ]
     },
     "execution_count": 33,
     "metadata": {},
     "output_type": "execute_result"
    }
   ],
   "source": [
    "type(b)"
   ]
  },
  {
   "cell_type": "code",
   "execution_count": 34,
   "id": "28fac3d2-ebc4-4d8a-b9f8-ebe7b4f5b47a",
   "metadata": {},
   "outputs": [
    {
     "data": {
      "text/plain": [
       "'lif'"
      ]
     },
     "execution_count": 34,
     "metadata": {},
     "output_type": "execute_result"
    }
   ],
   "source": [
    "a[:3]"
   ]
  },
  {
   "cell_type": "code",
   "execution_count": 35,
   "id": "b0bc1e56-c09b-4d07-8422-e667f3b3c9ff",
   "metadata": {},
   "outputs": [
    {
     "data": {
      "text/plain": [
       "'e'"
      ]
     },
     "execution_count": 35,
     "metadata": {},
     "output_type": "execute_result"
    }
   ],
   "source": [
    "a[3]"
   ]
  },
  {
   "cell_type": "code",
   "execution_count": 37,
   "id": "f7e85f8d-fb24-4af7-8ad6-6ee3da6f8eae",
   "metadata": {},
   "outputs": [
    {
     "data": {
      "text/plain": [
       "'good'"
      ]
     },
     "execution_count": 37,
     "metadata": {},
     "output_type": "execute_result"
    }
   ],
   "source": [
    "a[-4:]"
   ]
  },
  {
   "cell_type": "code",
   "execution_count": 39,
   "id": "b61355c0-3ab0-43e1-b1cb-1d2b3ba2982f",
   "metadata": {},
   "outputs": [],
   "source": [
    "# 주민등록번호를 입력 받아서 생년 월일과 성별을 출력하세요\n",
    "# 3항 연산자를 이용 (조건 ? 참 : 거짓)"
   ]
  },
  {
   "cell_type": "code",
   "execution_count": 40,
   "id": "e5d9bf52-ed21-4dac-84dc-b6e1683f0571",
   "metadata": {},
   "outputs": [
    {
     "name": "stdin",
     "output_type": "stream",
     "text": [
      "주민등록번호를 입력하세요 >>> 941216-1111111\n"
     ]
    },
    {
     "ename": "ValueError",
     "evalue": "invalid literal for int() with base 10: '941216-1111111'",
     "output_type": "error",
     "traceback": [
      "\u001b[0;31m---------------------------------------------------------------------------\u001b[0m",
      "\u001b[0;31mValueError\u001b[0m                                Traceback (most recent call last)",
      "Input \u001b[0;32mIn [40]\u001b[0m, in \u001b[0;36m<cell line: 1>\u001b[0;34m()\u001b[0m\n\u001b[0;32m----> 1\u001b[0m regisNum \u001b[38;5;241m=\u001b[39m \u001b[38;5;28;43mint\u001b[39;49m\u001b[43m(\u001b[49m\u001b[38;5;28;43minput\u001b[39;49m\u001b[43m(\u001b[49m\u001b[38;5;124;43m'\u001b[39;49m\u001b[38;5;124;43m주민등록번호를 입력하세요 >>>\u001b[39;49m\u001b[38;5;124;43m'\u001b[39;49m\u001b[43m)\u001b[49m\u001b[43m)\u001b[49m\n\u001b[1;32m      2\u001b[0m sex \u001b[38;5;241m=\u001b[39m \u001b[38;5;124m'\u001b[39m\u001b[38;5;124m남자\u001b[39m\u001b[38;5;124m'\u001b[39m \u001b[38;5;28;01mif\u001b[39;00m regisNum[\u001b[38;5;241m8\u001b[39m] \u001b[38;5;241m==\u001b[39m \u001b[38;5;241m1\u001b[39m \u001b[38;5;28;01melse\u001b[39;00m \u001b[38;5;124m'\u001b[39m\u001b[38;5;124m여자\u001b[39m\u001b[38;5;124m'\u001b[39m\n\u001b[1;32m      3\u001b[0m \u001b[38;5;28mprint\u001b[39m(regisNum[:\u001b[38;5;241m2\u001b[39m],\u001b[38;5;124m'\u001b[39m\u001b[38;5;124m년\u001b[39m\u001b[38;5;124m'\u001b[39m, regisNum[\u001b[38;5;241m3\u001b[39m:\u001b[38;5;241m4\u001b[39m],\u001b[38;5;124m'\u001b[39m\u001b[38;5;124m월\u001b[39m\u001b[38;5;124m'\u001b[39m, regisNum[\u001b[38;5;241m5\u001b[39m:\u001b[38;5;241m6\u001b[39m],\u001b[38;5;124m'\u001b[39m\u001b[38;5;124m일 출생\u001b[39m\u001b[38;5;124m'\u001b[39m, \u001b[38;5;124m'\u001b[39m\u001b[38;5;124m성별은\u001b[39m\u001b[38;5;124m'\u001b[39m, sex)\n",
      "\u001b[0;31mValueError\u001b[0m: invalid literal for int() with base 10: '941216-1111111'"
     ]
    }
   ],
   "source": [
    "regisNum = int(input('주민등록번호를 입력하세요 >>>'))\n",
    "sex = '남자' if regisNum[8] == 1 else '여자'\n",
    "print(regisNum[:2],'년', regisNum[3:4],'월', regisNum[5:6],'일 출생', '성별은', sex)"
   ]
  },
  {
   "cell_type": "code",
   "execution_count": 46,
   "id": "2466648e-d6d0-431f-a591-ba349a04d43e",
   "metadata": {},
   "outputs": [
    {
     "name": "stdin",
     "output_type": "stream",
     "text": [
      "주민등록번호를 입력하세요 >>> 941216-1111111\n"
     ]
    },
    {
     "name": "stdout",
     "output_type": "stream",
     "text": [
      "94 년 12 월 16 일 출생 성별은 남자\n"
     ]
    }
   ],
   "source": [
    "regisNum = input('주민등록번호를 입력하세요 >>>')\n",
    "sex = '남자' if regisNum[7] == '1' else '여자'\n",
    "print(regisNum[:2],'년', regisNum[2:4],'월', regisNum[4:6],'일 출생', '성별은', sex)"
   ]
  },
  {
   "cell_type": "code",
   "execution_count": null,
   "id": "1221f590-6fa5-4313-b1bb-f5cd50209003",
   "metadata": {},
   "outputs": [],
   "source": []
  }
 ],
 "metadata": {
  "kernelspec": {
   "display_name": "Python 3 (ipykernel)",
   "language": "python",
   "name": "python3"
  },
  "language_info": {
   "codemirror_mode": {
    "name": "ipython",
    "version": 3
   },
   "file_extension": ".py",
   "mimetype": "text/x-python",
   "name": "python",
   "nbconvert_exporter": "python",
   "pygments_lexer": "ipython3",
   "version": "3.9.12"
  }
 },
 "nbformat": 4,
 "nbformat_minor": 5
}
