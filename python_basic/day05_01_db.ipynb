{
 "cells": [
  {
   "cell_type": "code",
   "execution_count": 1,
   "id": "ea77edd2-4f59-4f90-92d8-5ef3d7290f36",
   "metadata": {},
   "outputs": [],
   "source": [
    "def two_times(numberList):\n",
    "    result = []\n",
    "    for number in numberList:\n",
    "        result.append(number*2)\n",
    "    return result"
   ]
  },
  {
   "cell_type": "code",
   "execution_count": 2,
   "id": "e65f076b-968d-475d-8fc6-dac2b9541917",
   "metadata": {},
   "outputs": [],
   "source": [
    "numberList = [1, 2, 3, 4, 5]"
   ]
  },
  {
   "cell_type": "code",
   "execution_count": 3,
   "id": "c0749bf0-adc8-4ea2-ab67-d5582ec54fa2",
   "metadata": {},
   "outputs": [
    {
     "data": {
      "text/plain": [
       "[2, 4, 6, 8, 10]"
      ]
     },
     "execution_count": 3,
     "metadata": {},
     "output_type": "execute_result"
    }
   ],
   "source": [
    "two_times(numberList)"
   ]
  },
  {
   "cell_type": "code",
   "execution_count": 4,
   "id": "b4f92fad-ed54-4372-adea-c306e02cefe8",
   "metadata": {},
   "outputs": [
    {
     "ename": "NameError",
     "evalue": "name 'result' is not defined",
     "output_type": "error",
     "traceback": [
      "\u001b[0;31m---------------------------------------------------------------------------\u001b[0m",
      "\u001b[0;31mNameError\u001b[0m                                 Traceback (most recent call last)",
      "Input \u001b[0;32mIn [4]\u001b[0m, in \u001b[0;36m<cell line: 1>\u001b[0;34m()\u001b[0m\n\u001b[0;32m----> 1\u001b[0m \u001b[43mresult\u001b[49m\n",
      "\u001b[0;31mNameError\u001b[0m: name 'result' is not defined"
     ]
    }
   ],
   "source": [
    "result"
   ]
  },
  {
   "cell_type": "code",
   "execution_count": 5,
   "id": "852a7590-3b83-4976-9739-f0a4bf9da5d4",
   "metadata": {},
   "outputs": [],
   "source": [
    "def two_times(x):\n",
    "    return x*2"
   ]
  },
  {
   "cell_type": "code",
   "execution_count": 6,
   "id": "a90cdda7-ecab-4625-9c92-5a26d5037160",
   "metadata": {},
   "outputs": [
    {
     "data": {
      "text/plain": [
       "<map at 0x7fd4aa111d30>"
      ]
     },
     "execution_count": 6,
     "metadata": {},
     "output_type": "execute_result"
    }
   ],
   "source": [
    "map(two_times, numberList)"
   ]
  },
  {
   "cell_type": "code",
   "execution_count": 7,
   "id": "482f4bcf-ac0b-4088-a327-e8b991920a8e",
   "metadata": {},
   "outputs": [
    {
     "data": {
      "text/plain": [
       "[2, 4, 6, 8, 10]"
      ]
     },
     "execution_count": 7,
     "metadata": {},
     "output_type": "execute_result"
    }
   ],
   "source": [
    "list(map(two_times, numberList))"
   ]
  },
  {
   "cell_type": "code",
   "execution_count": 8,
   "id": "33a50bab-1831-4286-84d3-72d146672536",
   "metadata": {},
   "outputs": [],
   "source": [
    "names = ['권선영', '김시영', '박희은', '박효진', '정성균']\n",
    "# 안녕하세요!    고객님~"
   ]
  },
  {
   "cell_type": "code",
   "execution_count": 9,
   "id": "c2ae341b-2c1f-4250-8c81-db23aace4fd6",
   "metadata": {},
   "outputs": [],
   "source": [
    "def Hello(names):\n",
    "    for i in names:\n",
    "        print(f'안녕하세요! {i} 고객님~')"
   ]
  },
  {
   "cell_type": "code",
   "execution_count": 10,
   "id": "1a2388cc-e9c9-4b33-ad22-2827cbce2efd",
   "metadata": {},
   "outputs": [
    {
     "name": "stdout",
     "output_type": "stream",
     "text": [
      "안녕하세요! 권선영 고객님~\n",
      "안녕하세요! 김시영 고객님~\n",
      "안녕하세요! 박희은 고객님~\n",
      "안녕하세요! 박효진 고객님~\n",
      "안녕하세요! 정성균 고객님~\n"
     ]
    }
   ],
   "source": [
    "Hello(names)"
   ]
  },
  {
   "cell_type": "code",
   "execution_count": 13,
   "id": "9b919ff5-62de-4b84-8013-dbd5b0358ee0",
   "metadata": {},
   "outputs": [],
   "source": [
    "def Hello(names):\n",
    "    return '안녕하세요! ' + names + ' 고객님~'"
   ]
  },
  {
   "cell_type": "code",
   "execution_count": 14,
   "id": "a78230ef-dfbe-47dc-897d-8e6fd8abee3a",
   "metadata": {},
   "outputs": [
    {
     "data": {
      "text/plain": [
       "['안녕하세요! 권선영 고객님~',\n",
       " '안녕하세요! 김시영 고객님~',\n",
       " '안녕하세요! 박희은 고객님~',\n",
       " '안녕하세요! 박효진 고객님~',\n",
       " '안녕하세요! 정성균 고객님~']"
      ]
     },
     "execution_count": 14,
     "metadata": {},
     "output_type": "execute_result"
    }
   ],
   "source": [
    "list(map(Hello, names))"
   ]
  },
  {
   "cell_type": "code",
   "execution_count": 22,
   "id": "12c5c781-8e60-45b3-a71e-16d472b049fa",
   "metadata": {},
   "outputs": [],
   "source": [
    "names = ['권선영', '김시영', '박희은', '박효진', '정성균']\n",
    "score = [50, 60, 70, 80, 90]\n",
    "score1 = [100, 90, 80, 70, 60] "
   ]
  },
  {
   "cell_type": "code",
   "execution_count": 21,
   "id": "b9607ceb-2464-4279-b88c-51f2267e76b4",
   "metadata": {},
   "outputs": [
    {
     "data": {
      "text/plain": [
       "[('권선영', 50), ('김시영', 60), ('박희은', 70), ('박효진', 80), ('정성균', 90)]"
      ]
     },
     "execution_count": 21,
     "metadata": {},
     "output_type": "execute_result"
    }
   ],
   "source": [
    "list(zip(names, score)) # 두 리스트의 개수가 부족해도 오류는 안 나고 출력이 됨"
   ]
  },
  {
   "cell_type": "code",
   "execution_count": 23,
   "id": "9d30fb23-1734-4af5-b724-aa332fa9551a",
   "metadata": {},
   "outputs": [
    {
     "data": {
      "text/plain": [
       "[('권선영', 50, 100),\n",
       " ('김시영', 60, 90),\n",
       " ('박희은', 70, 80),\n",
       " ('박효진', 80, 70),\n",
       " ('정성균', 90, 60)]"
      ]
     },
     "execution_count": 23,
     "metadata": {},
     "output_type": "execute_result"
    }
   ],
   "source": [
    "list(zip(names, score, score1))"
   ]
  },
  {
   "cell_type": "code",
   "execution_count": null,
   "id": "0f42473d-8e12-492f-b58c-bed919734ccd",
   "metadata": {},
   "outputs": [],
   "source": []
  }
 ],
 "metadata": {
  "kernelspec": {
   "display_name": "Python 3 (ipykernel)",
   "language": "python",
   "name": "python3"
  },
  "language_info": {
   "codemirror_mode": {
    "name": "ipython",
    "version": 3
   },
   "file_extension": ".py",
   "mimetype": "text/x-python",
   "name": "python",
   "nbconvert_exporter": "python",
   "pygments_lexer": "ipython3",
   "version": "3.9.12"
  }
 },
 "nbformat": 4,
 "nbformat_minor": 5
}
